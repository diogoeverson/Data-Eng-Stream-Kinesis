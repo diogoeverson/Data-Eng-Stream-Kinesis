{
 "cells": [
  {
   "cell_type": "code",
   "execution_count": 3,
   "metadata": {},
   "outputs": [
    {
     "name": "stdout",
     "output_type": "stream",
     "text": [
      "{'Records': [], 'NextShardIterator': 'AAAAAAAAAAGWri85wFQs9qEqO3lxWfvGN/8vwp0TO5gA7LkLlFUWJwSbf/AltFQGj1uV88DAFcU5wAHPEKbgUU1pWfX4lcDw8kVk3PY49PHDdxkoBeDDCvC0R4nQEg45B+F7wDQp4IJ2FdMXmIpyK10+DimyqitV5/pw8BUxTNPSQ9ShOV+IkJ4QqmKMqOktow+Xc2RswxLfdizV7wiQTSAMZfD6CWMA', 'MillisBehindLatest': 0, 'ResponseMetadata': {'RequestId': 'f894ad5d-e1fa-003f-afc8-ef577a578c44', 'HTTPStatusCode': 200, 'HTTPHeaders': {'x-amzn-requestid': 'f894ad5d-e1fa-003f-afc8-ef577a578c44', 'x-amz-id-2': 'XER409LGgIa1UkkD6b91PpNPGgJYBC7LQS23bNyvTctoQWR8blEjD/tEiECwPVBAQz8m2D/dAssNC+/E/dLg8A7ESo68zaJ0', 'date': 'Thu, 11 Jun 2020 14:29:30 GMT', 'content-type': 'application/x-amz-json-1.1', 'content-length': '284'}, 'RetryAttempts': 0}}\n",
      "{'Records': [{'SequenceNumber': '49607861088318812191676692904643292487424992782067957762', 'ApproximateArrivalTimestamp': datetime.datetime(2020, 6, 11, 11, 29, 31, 267000, tzinfo=tzlocal()), 'Data': b'{\"prop\": \"84\", \"timestamp\": \"1591885771\", \"thing_id\": \"aa-bb\"}', 'PartitionKey': 'aa-bb'}], 'NextShardIterator': 'AAAAAAAAAAH4TrXXNLkXVZYbrxAapplKKb2TLSU6R2NLgmlTYZ4wvovvltXx7WH29Be9WANz2LbNmKGXy+fhBOmQjyGJI9sx2oOaIBe2Q0D/i6VYawFOGADG07udRYrjIxs58LrhCzn9cYxR/7PEqrBxIikUCJfuEjggOB3QmZ4Scl+4PaFwyeubpShdnUVelt6169UljAGJc9RnsEIKssOo3CMNeE5Z', 'MillisBehindLatest': 0, 'ResponseMetadata': {'RequestId': 'c3805d09-244d-2ac2-94dc-1f19bfe0a6b9', 'HTTPStatusCode': 200, 'HTTPHeaders': {'x-amzn-requestid': 'c3805d09-244d-2ac2-94dc-1f19bfe0a6b9', 'x-amz-id-2': 'm6es5Ub4ThdP6nlSvxY9/Fm17ZReb+D2eoueyC5BozMmtC0Vedk9y2pfc2ofCD9BBa/xqxeBoGxFcLvXcD9jSE7y+hdsxig0', 'date': 'Thu, 11 Jun 2020 14:29:36 GMT', 'content-type': 'application/x-amz-json-1.1', 'content-length': '525'}, 'RetryAttempts': 0}}\n",
      "{'Records': [{'SequenceNumber': '49607861088318812191676692904644501413244607754840047618', 'ApproximateArrivalTimestamp': datetime.datetime(2020, 6, 11, 11, 29, 36, 503000, tzinfo=tzlocal()), 'Data': b'{\"prop\": \"40\", \"timestamp\": \"1591885776\", \"thing_id\": \"aa-bb\"}', 'PartitionKey': 'aa-bb'}], 'NextShardIterator': 'AAAAAAAAAAH6PcrC1auH1fk8EMoWokVW7l5YorzJo8BY9o3zhU+gjGAbjs3QJgQWmGCvg4Ak43KD+54IcTdzvSSfdWmC/xomtg32hkW2KzJlZxgbTSEiVs0AOsErQS0o/Acoy/Qy64UbDjz3QjoWZnS++UuCvYVVXDQe4GXeG5kc/qP4c9r87UGN5Yeka6gUXdNFh20LcHUWdFMe8kbdUXuJuzWZaZ47', 'MillisBehindLatest': 0, 'ResponseMetadata': {'RequestId': 'c3af1c94-b9f9-3ce6-94f3-5e812254b09d', 'HTTPStatusCode': 200, 'HTTPHeaders': {'x-amzn-requestid': 'c3af1c94-b9f9-3ce6-94f3-5e812254b09d', 'x-amz-id-2': 'lsRc9gDegNLywD5D3orByvqDFOsJeGijtOzyKBxNh02ws3Z13vcbrof0PyeCD+qb4feC+Ty1wSWdTVHdzgesgZaw6EFEj9uH', 'date': 'Thu, 11 Jun 2020 14:29:41 GMT', 'content-type': 'application/x-amz-json-1.1', 'content-length': '525'}, 'RetryAttempts': 0}}\n",
      "{'Records': [{'SequenceNumber': '49607861088318812191676692904645710339064222796331614210', 'ApproximateArrivalTimestamp': datetime.datetime(2020, 6, 11, 11, 29, 41, 745000, tzinfo=tzlocal()), 'Data': b'{\"prop\": \"112\", \"timestamp\": \"1591885781\", \"thing_id\": \"aa-bb\"}', 'PartitionKey': 'aa-bb'}], 'NextShardIterator': 'AAAAAAAAAAEsy6wJs3z/xGJlPf2xEI0D2u3bEeLzyg36D2dDjJSZEoR0tPBJrbCJlyFNsBKNGJ+rpBTWPATt1h7yeoUH6TdgkdCZEmOlAu3y/FlQtwNQHugPZ+ixuexyXe+s5EQS0beR3MRJevnjcpXP9tZwoCJgcg+vs1Jvz9lbY9lkazlMRdpBV1Q5mS8ld01ei04oynV+Bcr2Tqy8e+PArnZPM0eN', 'MillisBehindLatest': 0, 'ResponseMetadata': {'RequestId': 'e88f031a-1c38-0221-bfd3-410087958e5a', 'HTTPStatusCode': 200, 'HTTPHeaders': {'x-amzn-requestid': 'e88f031a-1c38-0221-bfd3-410087958e5a', 'x-amz-id-2': 'IP78/oocXi2VdRXj/yOvbsDSTR0TxVCHhxhmIxA1rYq0ovwqV7e35m8uEd1mDDzV3/dktstIiP0RHolKhXNn6BcuE2blfOC4', 'date': 'Thu, 11 Jun 2020 14:29:46 GMT', 'content-type': 'application/x-amz-json-1.1', 'content-length': '525'}, 'RetryAttempts': 0}}\n",
      "{'Records': [{'SequenceNumber': '49607861088318812191676692904646919264883837700384227330', 'ApproximateArrivalTimestamp': datetime.datetime(2020, 6, 11, 11, 29, 46, 992000, tzinfo=tzlocal()), 'Data': b'{\"prop\": \"82\", \"timestamp\": \"1591885786\", \"thing_id\": \"aa-bb\"}', 'PartitionKey': 'aa-bb'}], 'NextShardIterator': 'AAAAAAAAAAEvPG2VzA9jRqDQ3wai3MAW6kCms/qc9WdJAi3jGM4tOoiQp3OPkO1QqlQU8APqOqC5CtcASIvaNQrhJP4B8xr5FtHaKpyL4CCDmXXr3arHKv7VcX6EKcW7prYM/UihzAMHwqwbFEuSEfLEcA+jl+C4G6IEvmXP9cvF+Q959GxYt75drizREZB5WI4eXWseW26ejV9m0UXFCkKE1/61o7SM', 'MillisBehindLatest': 0, 'ResponseMetadata': {'RequestId': 'df2957ba-9668-b346-8875-15a50dc53f3d', 'HTTPStatusCode': 200, 'HTTPHeaders': {'x-amzn-requestid': 'df2957ba-9668-b346-8875-15a50dc53f3d', 'x-amz-id-2': 'ByHlRDRGvDS5JU99idLOytDN6CsQD4PRticl447LGK2G5SBj3NTe3QNHp8kfFrE9zgMzbZhR1RT0ronMpV4IihHwPJiVwbWL', 'date': 'Thu, 11 Jun 2020 14:29:51 GMT', 'content-type': 'application/x-amz-json-1.1', 'content-length': '525'}, 'RetryAttempts': 0}}\n",
      "{'Records': [{'SequenceNumber': '49607861088318812191676692904648128190703452741875793922', 'ApproximateArrivalTimestamp': datetime.datetime(2020, 6, 11, 11, 29, 52, 235000, tzinfo=tzlocal()), 'Data': b'{\"prop\": \"117\", \"timestamp\": \"1591885792\", \"thing_id\": \"aa-bb\"}', 'PartitionKey': 'aa-bb'}], 'NextShardIterator': 'AAAAAAAAAAG7bkIP5YUeor5vdUCqyk8NSuSal7URK2/LQ8ZG9/DoMKkId+MX2suEKAWEneh/CA7G6VmNkoej7OiNiIHU8ZNy1rjaQCCb7dOIHSx5Z5kSOl0c5LGQVynA749vZlqutVWvshpseXC566lyJc9mcMcid8g4qJXARIULb7l0QEqeXG7flypLUR1KJS3Kfp9gGOwCxGz7RuClbIkhUQZY+/n3', 'MillisBehindLatest': 0, 'ResponseMetadata': {'RequestId': 'e51b4db7-0bd0-244c-b247-0f92907da837', 'HTTPStatusCode': 200, 'HTTPHeaders': {'x-amzn-requestid': 'e51b4db7-0bd0-244c-b247-0f92907da837', 'x-amz-id-2': 'q5wnYbn2KgIu4WbvaDGuEA36nubpcDyrE7wUdvW8SWX6FxOLI+qZk7ALc4Yp1Nc4SSE11NynHYumXK+YbbldZzcZ/Zgonky8', 'date': 'Thu, 11 Jun 2020 14:29:57 GMT', 'content-type': 'application/x-amz-json-1.1', 'content-length': '525'}, 'RetryAttempts': 0}}\n",
      "{'Records': [{'SequenceNumber': '49607861088318812191676692904772647550123759890467913730', 'ApproximateArrivalTimestamp': datetime.datetime(2020, 6, 11, 11, 29, 57, 482000, tzinfo=tzlocal()), 'Data': b'{\"prop\": \"117\", \"timestamp\": \"1591885797\", \"thing_id\": \"aa-bb\"}', 'PartitionKey': 'aa-bb'}], 'NextShardIterator': 'AAAAAAAAAAHi6B9KEDTcpmV38WhKE0gicV/fs+ZiGQpuu8VQyUhy8wmzKzmxDVh+PdKlF+0cIBasgFwejwpk4HHvD0PcGrvYlUoR8ubScq0MlrLpcKEu/YKq8WCEf3eZvvqn3rqJhhwvQIt9ZedlIVCPjI15CIeahbhWb6MaSk4RJhOVnMR1dDfAJZZMo2t3VmHBzMv/2JpcdXoKtIDUi0yLIe36bkst', 'MillisBehindLatest': 0, 'ResponseMetadata': {'RequestId': 'd6ea1503-9962-95f3-81b6-572902cf1988', 'HTTPStatusCode': 200, 'HTTPHeaders': {'x-amzn-requestid': 'd6ea1503-9962-95f3-81b6-572902cf1988', 'x-amz-id-2': 'PVIxyy3dgD9mrzyNB0fTVxac3nl85NoNdt2jwBh58OmNsl+hN7Hc727qwjRU1sxUuk2Mz3iDXpdBa5sQ71fXrTEp5thtEj8N', 'date': 'Thu, 11 Jun 2020 14:30:02 GMT', 'content-type': 'application/x-amz-json-1.1', 'content-length': '525'}, 'RetryAttempts': 0}}\n",
      "{'Records': [{'SequenceNumber': '49607861088318812191676692904958822126344413126970048514', 'ApproximateArrivalTimestamp': datetime.datetime(2020, 6, 11, 11, 30, 2, 729000, tzinfo=tzlocal()), 'Data': b'{\"prop\": \"48\", \"timestamp\": \"1591885802\", \"thing_id\": \"aa-bb\"}', 'PartitionKey': 'aa-bb'}], 'NextShardIterator': 'AAAAAAAAAAElCGFla4CSnbAjJifL4TWxsn1lM5cLJ+5aqM47aHK+j/YD1WB8Z/vgxIP6kLCfMX+r3S6+rerz7mm2BnQujxksKkrlvxM5OmxCCXLPHAvG1s8ZxIyoS4dxvyV+8zlSSf+sr+BvangFrhFuMaiFxQzDLZJYeGIUDUwsXAZpORd2dd9kGYSUW9XpZY42lCKHhqpYrW3XaYX13NTBHo9sfnKN', 'MillisBehindLatest': 0, 'ResponseMetadata': {'RequestId': 'ea5b829d-3258-9a82-bd07-c0b2a9f516f9', 'HTTPStatusCode': 200, 'HTTPHeaders': {'x-amzn-requestid': 'ea5b829d-3258-9a82-bd07-c0b2a9f516f9', 'x-amz-id-2': 'RlrWjDBVmKRN7kRIDHjtdTEEA3S61QxKgvZGL43CnE11HpQ/YfYOTDGYOCQif7oDYB2Yhx8mY1rV7KjUjpSkz6CBwA/GBcvy', 'date': 'Thu, 11 Jun 2020 14:30:07 GMT', 'content-type': 'application/x-amz-json-1.1', 'content-length': '525'}, 'RetryAttempts': 0}}\n"
     ]
    },
    {
     "ename": "KeyboardInterrupt",
     "evalue": "",
     "output_type": "error",
     "traceback": [
      "\u001b[1;31m---------------------------------------------------------------------------\u001b[0m",
      "\u001b[1;31mKeyboardInterrupt\u001b[0m                         Traceback (most recent call last)",
      "\u001b[1;32m<ipython-input-3-92d982b46e0e>\u001b[0m in \u001b[0;36m<module>\u001b[1;34m\u001b[0m\n\u001b[0;32m     28\u001b[0m \u001b[1;33m\u001b[0m\u001b[0m\n\u001b[0;32m     29\u001b[0m     \u001b[1;31m# wait for 5 seconds\u001b[0m\u001b[1;33m\u001b[0m\u001b[1;33m\u001b[0m\u001b[0m\n\u001b[1;32m---> 30\u001b[1;33m     \u001b[0mtime\u001b[0m\u001b[1;33m.\u001b[0m\u001b[0msleep\u001b[0m\u001b[1;33m(\u001b[0m\u001b[1;36m5\u001b[0m\u001b[1;33m)\u001b[0m\u001b[1;33m\u001b[0m\u001b[0m\n\u001b[0m",
      "\u001b[1;31mKeyboardInterrupt\u001b[0m: "
     ]
    }
   ],
   "source": [
    "import boto3\n",
    "import json\n",
    "from datetime import datetime\n",
    "import time\n",
    "\n",
    "my_stream_name = 'python-stream'\n",
    "\n",
    "kinesis_client = boto3.client('kinesis', region_name='us-east-1')\n",
    "\n",
    "response = kinesis_client.describe_stream(StreamName=my_stream_name)\n",
    "\n",
    "my_shard_id = response['StreamDescription']['Shards'][0]['ShardId']\n",
    "\n",
    "shard_iterator = kinesis_client.get_shard_iterator(StreamName=my_stream_name,\n",
    "                                                      ShardId=my_shard_id,\n",
    "                                                      ShardIteratorType='LATEST')\n",
    "\n",
    "my_shard_iterator = shard_iterator['ShardIterator']\n",
    "\n",
    "record_response = kinesis_client.get_records(ShardIterator=my_shard_iterator,\n",
    "                                              Limit=2)\n",
    "\n",
    "while 'NextShardIterator' in record_response:\n",
    "    record_response = kinesis_client.get_records(ShardIterator=record_response['NextShardIterator'],\n",
    "                                                  Limit=2)\n",
    "\n",
    "    print(record_response)\n",
    "\n",
    "    # wait for 5 seconds\n",
    "    time.sleep(5)"
   ]
  },
  {
   "cell_type": "code",
   "execution_count": null,
   "metadata": {},
   "outputs": [],
   "source": []
  }
 ],
 "metadata": {
  "kernelspec": {
   "display_name": "Python 3",
   "language": "python",
   "name": "python3"
  },
  "language_info": {
   "codemirror_mode": {
    "name": "ipython",
    "version": 3
   },
   "file_extension": ".py",
   "mimetype": "text/x-python",
   "name": "python",
   "nbconvert_exporter": "python",
   "pygments_lexer": "ipython3",
   "version": "3.6.5"
  }
 },
 "nbformat": 4,
 "nbformat_minor": 4
}
